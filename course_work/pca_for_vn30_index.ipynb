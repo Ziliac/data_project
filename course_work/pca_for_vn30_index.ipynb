{
  "nbformat": 4,
  "nbformat_minor": 0,
  "metadata": {
    "colab": {
      "provenance": [],
      "gpuType": "T4"
    },
    "kernelspec": {
      "name": "python3",
      "display_name": "Python 3"
    },
    "language_info": {
      "name": "python"
    },
    "accelerator": "GPU"
  },
  "cells": [
    {
      "cell_type": "markdown",
      "source": [
        "# Apply PCA to plot a VN30-Index graph\n",
        "\n",
        "The dataset used in this notebook is available at www.kaggle.com/datasets/nguyenngocphung/stock-prices-vn30-indexvietnam\n",
        "\n",
        "This dataset provides stock prices of in total 30 indexes listed on VN30-Index. Each .csv file contains 7 features:\n",
        "*   Ticker: Name of the index\n",
        "*   DTYYYYMMDD: Trading date\n",
        "*   Open: Opening price\n",
        "*   High: Highest price\n",
        "*   Low: Lowest price\n",
        "*   Close: Closing Price\n",
        "*   Volume: The number of stocks traded\n",
        "\n",
        "=> To simplify the problem and focus more on PCA, I only use **Trading date** and **Closing price** to calculate VN30 Index (Of course, not in the way that it is suppossed to be)."
      ],
      "metadata": {
        "id": "LS1lUKrE7gMz"
      }
    },
    {
      "cell_type": "markdown",
      "source": [
        "# Data Preparation"
      ],
      "metadata": {
        "id": "QQVnKAEFC5EK"
      }
    },
    {
      "cell_type": "code",
      "source": [
        "from google.colab import drive\n",
        "import os\n",
        "import pandas as pd\n",
        "import numpy as np\n",
        "drive.mount('/content/drive')"
      ],
      "metadata": {
        "id": "_N-0-WrSPzw2",
        "colab": {
          "base_uri": "https://localhost:8080/"
        },
        "outputId": "1226690b-e7f7-4984-9cd4-edb2fa97d6ca"
      },
      "execution_count": null,
      "outputs": [
        {
          "output_type": "stream",
          "name": "stdout",
          "text": [
            "Mounted at /content/drive\n"
          ]
        }
      ]
    },
    {
      "cell_type": "markdown",
      "source": [
        "Unfortunately, the number of observations varies across stocks, so I will choose the stock with the fewest observations to avoid missing values."
      ],
      "metadata": {
        "id": "SEhrnLdmBGHR"
      }
    },
    {
      "cell_type": "code",
      "source": [
        "df = pd.DataFrame()\n",
        "data = pd.read_csv('/content/drive/MyDrive/VN30/TCB.csv')\n",
        "df['Time'] = data['<DTYYYYMMDD>']\n",
        "df"
      ],
      "metadata": {
        "id": "8mqwrS_hQa8z",
        "colab": {
          "base_uri": "https://localhost:8080/",
          "height": 423
        },
        "outputId": "9db2ec39-c0e4-4714-c888-d89ac4e434f0"
      },
      "execution_count": null,
      "outputs": [
        {
          "output_type": "execute_result",
          "data": {
            "text/plain": [
              "         Time\n",
              "0    20210625\n",
              "1    20210624\n",
              "2    20210623\n",
              "3    20210622\n",
              "4    20210621\n",
              "..        ...\n",
              "763  20180608\n",
              "764  20180607\n",
              "765  20180606\n",
              "766  20180605\n",
              "767  20180604\n",
              "\n",
              "[768 rows x 1 columns]"
            ],
            "text/html": [
              "\n",
              "  <div id=\"df-bcea12ab-4e23-438b-8c5a-c32f5e71ffb8\" class=\"colab-df-container\">\n",
              "    <div>\n",
              "<style scoped>\n",
              "    .dataframe tbody tr th:only-of-type {\n",
              "        vertical-align: middle;\n",
              "    }\n",
              "\n",
              "    .dataframe tbody tr th {\n",
              "        vertical-align: top;\n",
              "    }\n",
              "\n",
              "    .dataframe thead th {\n",
              "        text-align: right;\n",
              "    }\n",
              "</style>\n",
              "<table border=\"1\" class=\"dataframe\">\n",
              "  <thead>\n",
              "    <tr style=\"text-align: right;\">\n",
              "      <th></th>\n",
              "      <th>Time</th>\n",
              "    </tr>\n",
              "  </thead>\n",
              "  <tbody>\n",
              "    <tr>\n",
              "      <th>0</th>\n",
              "      <td>20210625</td>\n",
              "    </tr>\n",
              "    <tr>\n",
              "      <th>1</th>\n",
              "      <td>20210624</td>\n",
              "    </tr>\n",
              "    <tr>\n",
              "      <th>2</th>\n",
              "      <td>20210623</td>\n",
              "    </tr>\n",
              "    <tr>\n",
              "      <th>3</th>\n",
              "      <td>20210622</td>\n",
              "    </tr>\n",
              "    <tr>\n",
              "      <th>4</th>\n",
              "      <td>20210621</td>\n",
              "    </tr>\n",
              "    <tr>\n",
              "      <th>...</th>\n",
              "      <td>...</td>\n",
              "    </tr>\n",
              "    <tr>\n",
              "      <th>763</th>\n",
              "      <td>20180608</td>\n",
              "    </tr>\n",
              "    <tr>\n",
              "      <th>764</th>\n",
              "      <td>20180607</td>\n",
              "    </tr>\n",
              "    <tr>\n",
              "      <th>765</th>\n",
              "      <td>20180606</td>\n",
              "    </tr>\n",
              "    <tr>\n",
              "      <th>766</th>\n",
              "      <td>20180605</td>\n",
              "    </tr>\n",
              "    <tr>\n",
              "      <th>767</th>\n",
              "      <td>20180604</td>\n",
              "    </tr>\n",
              "  </tbody>\n",
              "</table>\n",
              "<p>768 rows × 1 columns</p>\n",
              "</div>\n",
              "    <div class=\"colab-df-buttons\">\n",
              "\n",
              "  <div class=\"colab-df-container\">\n",
              "    <button class=\"colab-df-convert\" onclick=\"convertToInteractive('df-bcea12ab-4e23-438b-8c5a-c32f5e71ffb8')\"\n",
              "            title=\"Convert this dataframe to an interactive table.\"\n",
              "            style=\"display:none;\">\n",
              "\n",
              "  <svg xmlns=\"http://www.w3.org/2000/svg\" height=\"24px\" viewBox=\"0 -960 960 960\">\n",
              "    <path d=\"M120-120v-720h720v720H120Zm60-500h600v-160H180v160Zm220 220h160v-160H400v160Zm0 220h160v-160H400v160ZM180-400h160v-160H180v160Zm440 0h160v-160H620v160ZM180-180h160v-160H180v160Zm440 0h160v-160H620v160Z\"/>\n",
              "  </svg>\n",
              "    </button>\n",
              "\n",
              "  <style>\n",
              "    .colab-df-container {\n",
              "      display:flex;\n",
              "      gap: 12px;\n",
              "    }\n",
              "\n",
              "    .colab-df-convert {\n",
              "      background-color: #E8F0FE;\n",
              "      border: none;\n",
              "      border-radius: 50%;\n",
              "      cursor: pointer;\n",
              "      display: none;\n",
              "      fill: #1967D2;\n",
              "      height: 32px;\n",
              "      padding: 0 0 0 0;\n",
              "      width: 32px;\n",
              "    }\n",
              "\n",
              "    .colab-df-convert:hover {\n",
              "      background-color: #E2EBFA;\n",
              "      box-shadow: 0px 1px 2px rgba(60, 64, 67, 0.3), 0px 1px 3px 1px rgba(60, 64, 67, 0.15);\n",
              "      fill: #174EA6;\n",
              "    }\n",
              "\n",
              "    .colab-df-buttons div {\n",
              "      margin-bottom: 4px;\n",
              "    }\n",
              "\n",
              "    [theme=dark] .colab-df-convert {\n",
              "      background-color: #3B4455;\n",
              "      fill: #D2E3FC;\n",
              "    }\n",
              "\n",
              "    [theme=dark] .colab-df-convert:hover {\n",
              "      background-color: #434B5C;\n",
              "      box-shadow: 0px 1px 3px 1px rgba(0, 0, 0, 0.15);\n",
              "      filter: drop-shadow(0px 1px 2px rgba(0, 0, 0, 0.3));\n",
              "      fill: #FFFFFF;\n",
              "    }\n",
              "  </style>\n",
              "\n",
              "    <script>\n",
              "      const buttonEl =\n",
              "        document.querySelector('#df-bcea12ab-4e23-438b-8c5a-c32f5e71ffb8 button.colab-df-convert');\n",
              "      buttonEl.style.display =\n",
              "        google.colab.kernel.accessAllowed ? 'block' : 'none';\n",
              "\n",
              "      async function convertToInteractive(key) {\n",
              "        const element = document.querySelector('#df-bcea12ab-4e23-438b-8c5a-c32f5e71ffb8');\n",
              "        const dataTable =\n",
              "          await google.colab.kernel.invokeFunction('convertToInteractive',\n",
              "                                                    [key], {});\n",
              "        if (!dataTable) return;\n",
              "\n",
              "        const docLinkHtml = 'Like what you see? Visit the ' +\n",
              "          '<a target=\"_blank\" href=https://colab.research.google.com/notebooks/data_table.ipynb>data table notebook</a>'\n",
              "          + ' to learn more about interactive tables.';\n",
              "        element.innerHTML = '';\n",
              "        dataTable['output_type'] = 'display_data';\n",
              "        await google.colab.output.renderOutput(dataTable, element);\n",
              "        const docLink = document.createElement('div');\n",
              "        docLink.innerHTML = docLinkHtml;\n",
              "        element.appendChild(docLink);\n",
              "      }\n",
              "    </script>\n",
              "  </div>\n",
              "\n",
              "\n",
              "<div id=\"df-91ec528a-1bcf-4396-a8dd-a53b8015099c\">\n",
              "  <button class=\"colab-df-quickchart\" onclick=\"quickchart('df-91ec528a-1bcf-4396-a8dd-a53b8015099c')\"\n",
              "            title=\"Suggest charts\"\n",
              "            style=\"display:none;\">\n",
              "\n",
              "<svg xmlns=\"http://www.w3.org/2000/svg\" height=\"24px\"viewBox=\"0 0 24 24\"\n",
              "     width=\"24px\">\n",
              "    <g>\n",
              "        <path d=\"M19 3H5c-1.1 0-2 .9-2 2v14c0 1.1.9 2 2 2h14c1.1 0 2-.9 2-2V5c0-1.1-.9-2-2-2zM9 17H7v-7h2v7zm4 0h-2V7h2v10zm4 0h-2v-4h2v4z\"/>\n",
              "    </g>\n",
              "</svg>\n",
              "  </button>\n",
              "\n",
              "<style>\n",
              "  .colab-df-quickchart {\n",
              "      --bg-color: #E8F0FE;\n",
              "      --fill-color: #1967D2;\n",
              "      --hover-bg-color: #E2EBFA;\n",
              "      --hover-fill-color: #174EA6;\n",
              "      --disabled-fill-color: #AAA;\n",
              "      --disabled-bg-color: #DDD;\n",
              "  }\n",
              "\n",
              "  [theme=dark] .colab-df-quickchart {\n",
              "      --bg-color: #3B4455;\n",
              "      --fill-color: #D2E3FC;\n",
              "      --hover-bg-color: #434B5C;\n",
              "      --hover-fill-color: #FFFFFF;\n",
              "      --disabled-bg-color: #3B4455;\n",
              "      --disabled-fill-color: #666;\n",
              "  }\n",
              "\n",
              "  .colab-df-quickchart {\n",
              "    background-color: var(--bg-color);\n",
              "    border: none;\n",
              "    border-radius: 50%;\n",
              "    cursor: pointer;\n",
              "    display: none;\n",
              "    fill: var(--fill-color);\n",
              "    height: 32px;\n",
              "    padding: 0;\n",
              "    width: 32px;\n",
              "  }\n",
              "\n",
              "  .colab-df-quickchart:hover {\n",
              "    background-color: var(--hover-bg-color);\n",
              "    box-shadow: 0 1px 2px rgba(60, 64, 67, 0.3), 0 1px 3px 1px rgba(60, 64, 67, 0.15);\n",
              "    fill: var(--button-hover-fill-color);\n",
              "  }\n",
              "\n",
              "  .colab-df-quickchart-complete:disabled,\n",
              "  .colab-df-quickchart-complete:disabled:hover {\n",
              "    background-color: var(--disabled-bg-color);\n",
              "    fill: var(--disabled-fill-color);\n",
              "    box-shadow: none;\n",
              "  }\n",
              "\n",
              "  .colab-df-spinner {\n",
              "    border: 2px solid var(--fill-color);\n",
              "    border-color: transparent;\n",
              "    border-bottom-color: var(--fill-color);\n",
              "    animation:\n",
              "      spin 1s steps(1) infinite;\n",
              "  }\n",
              "\n",
              "  @keyframes spin {\n",
              "    0% {\n",
              "      border-color: transparent;\n",
              "      border-bottom-color: var(--fill-color);\n",
              "      border-left-color: var(--fill-color);\n",
              "    }\n",
              "    20% {\n",
              "      border-color: transparent;\n",
              "      border-left-color: var(--fill-color);\n",
              "      border-top-color: var(--fill-color);\n",
              "    }\n",
              "    30% {\n",
              "      border-color: transparent;\n",
              "      border-left-color: var(--fill-color);\n",
              "      border-top-color: var(--fill-color);\n",
              "      border-right-color: var(--fill-color);\n",
              "    }\n",
              "    40% {\n",
              "      border-color: transparent;\n",
              "      border-right-color: var(--fill-color);\n",
              "      border-top-color: var(--fill-color);\n",
              "    }\n",
              "    60% {\n",
              "      border-color: transparent;\n",
              "      border-right-color: var(--fill-color);\n",
              "    }\n",
              "    80% {\n",
              "      border-color: transparent;\n",
              "      border-right-color: var(--fill-color);\n",
              "      border-bottom-color: var(--fill-color);\n",
              "    }\n",
              "    90% {\n",
              "      border-color: transparent;\n",
              "      border-bottom-color: var(--fill-color);\n",
              "    }\n",
              "  }\n",
              "</style>\n",
              "\n",
              "  <script>\n",
              "    async function quickchart(key) {\n",
              "      const quickchartButtonEl =\n",
              "        document.querySelector('#' + key + ' button');\n",
              "      quickchartButtonEl.disabled = true;  // To prevent multiple clicks.\n",
              "      quickchartButtonEl.classList.add('colab-df-spinner');\n",
              "      try {\n",
              "        const charts = await google.colab.kernel.invokeFunction(\n",
              "            'suggestCharts', [key], {});\n",
              "      } catch (error) {\n",
              "        console.error('Error during call to suggestCharts:', error);\n",
              "      }\n",
              "      quickchartButtonEl.classList.remove('colab-df-spinner');\n",
              "      quickchartButtonEl.classList.add('colab-df-quickchart-complete');\n",
              "    }\n",
              "    (() => {\n",
              "      let quickchartButtonEl =\n",
              "        document.querySelector('#df-91ec528a-1bcf-4396-a8dd-a53b8015099c button');\n",
              "      quickchartButtonEl.style.display =\n",
              "        google.colab.kernel.accessAllowed ? 'block' : 'none';\n",
              "    })();\n",
              "  </script>\n",
              "</div>\n",
              "\n",
              "  <div id=\"id_790cf814-4421-4255-87bd-118af6c414d6\">\n",
              "    <style>\n",
              "      .colab-df-generate {\n",
              "        background-color: #E8F0FE;\n",
              "        border: none;\n",
              "        border-radius: 50%;\n",
              "        cursor: pointer;\n",
              "        display: none;\n",
              "        fill: #1967D2;\n",
              "        height: 32px;\n",
              "        padding: 0 0 0 0;\n",
              "        width: 32px;\n",
              "      }\n",
              "\n",
              "      .colab-df-generate:hover {\n",
              "        background-color: #E2EBFA;\n",
              "        box-shadow: 0px 1px 2px rgba(60, 64, 67, 0.3), 0px 1px 3px 1px rgba(60, 64, 67, 0.15);\n",
              "        fill: #174EA6;\n",
              "      }\n",
              "\n",
              "      [theme=dark] .colab-df-generate {\n",
              "        background-color: #3B4455;\n",
              "        fill: #D2E3FC;\n",
              "      }\n",
              "\n",
              "      [theme=dark] .colab-df-generate:hover {\n",
              "        background-color: #434B5C;\n",
              "        box-shadow: 0px 1px 3px 1px rgba(0, 0, 0, 0.15);\n",
              "        filter: drop-shadow(0px 1px 2px rgba(0, 0, 0, 0.3));\n",
              "        fill: #FFFFFF;\n",
              "      }\n",
              "    </style>\n",
              "    <button class=\"colab-df-generate\" onclick=\"generateWithVariable('df')\"\n",
              "            title=\"Generate code using this dataframe.\"\n",
              "            style=\"display:none;\">\n",
              "\n",
              "  <svg xmlns=\"http://www.w3.org/2000/svg\" height=\"24px\"viewBox=\"0 0 24 24\"\n",
              "       width=\"24px\">\n",
              "    <path d=\"M7,19H8.4L18.45,9,17,7.55,7,17.6ZM5,21V16.75L18.45,3.32a2,2,0,0,1,2.83,0l1.4,1.43a1.91,1.91,0,0,1,.58,1.4,1.91,1.91,0,0,1-.58,1.4L9.25,21ZM18.45,9,17,7.55Zm-12,3A5.31,5.31,0,0,0,4.9,8.1,5.31,5.31,0,0,0,1,6.5,5.31,5.31,0,0,0,4.9,4.9,5.31,5.31,0,0,0,6.5,1,5.31,5.31,0,0,0,8.1,4.9,5.31,5.31,0,0,0,12,6.5,5.46,5.46,0,0,0,6.5,12Z\"/>\n",
              "  </svg>\n",
              "    </button>\n",
              "    <script>\n",
              "      (() => {\n",
              "      const buttonEl =\n",
              "        document.querySelector('#id_790cf814-4421-4255-87bd-118af6c414d6 button.colab-df-generate');\n",
              "      buttonEl.style.display =\n",
              "        google.colab.kernel.accessAllowed ? 'block' : 'none';\n",
              "\n",
              "      buttonEl.onclick = () => {\n",
              "        google.colab.notebook.generateWithVariable('df');\n",
              "      }\n",
              "      })();\n",
              "    </script>\n",
              "  </div>\n",
              "\n",
              "    </div>\n",
              "  </div>\n"
            ],
            "application/vnd.google.colaboratory.intrinsic+json": {
              "type": "dataframe",
              "variable_name": "df",
              "summary": "{\n  \"name\": \"df\",\n  \"rows\": 768,\n  \"fields\": [\n    {\n      \"column\": \"Time\",\n      \"properties\": {\n        \"dtype\": \"number\",\n        \"std\": 9556,\n        \"min\": 20180604,\n        \"max\": 20210625,\n        \"num_unique_values\": 768,\n        \"samples\": [\n          20181022,\n          20200311,\n          20181221\n        ],\n        \"semantic_type\": \"\",\n        \"description\": \"\"\n      }\n    }\n  ]\n}"
            }
          },
          "metadata": {},
          "execution_count": 2
        }
      ]
    },
    {
      "cell_type": "code",
      "execution_count": null,
      "metadata": {
        "id": "7bpSbJ8WPj-I"
      },
      "outputs": [],
      "source": [
        "def extract_close_from_csv(folder_path, df):\n",
        "    os.chdir(folder_path)\n",
        "    files = os.listdir()\n",
        "    csv_files = [file for file in files if file.endswith('.csv')]\n",
        "\n",
        "    for file in csv_files:\n",
        "        data = pd.read_csv(file)\n",
        "        data['<Close>'] = data['<Close>'].astype(float)\n",
        "        name = os.path.splitext(file)[0]\n",
        "        close_price = data['<Close>']\n",
        "        df[name] = close_price\n",
        "\n",
        "    return df\n",
        "\n",
        "path = '/content/drive/MyDrive/VN30'\n",
        "df = extract_close_from_csv(path, df)\n",
        "df = df.iloc[::-1].reset_index(drop=True)"
      ]
    },
    {
      "cell_type": "markdown",
      "source": [
        "Quickly check throughout the dataset"
      ],
      "metadata": {
        "id": "yAxXkptltqmh"
      }
    },
    {
      "cell_type": "code",
      "source": [
        "def check_df(dataframe, head=5):\n",
        "    print(\" SHAPE \".center(70,'-'))\n",
        "    print('Rows: {}'.format(dataframe.shape[0]))\n",
        "    print('Columns: {}'.format(dataframe.shape[1]))\n",
        "    print(\" TYPES \".center(70,'-'))\n",
        "    print(dataframe.dtypes)\n",
        "    print(\" HEAD \".center(70,'-'))\n",
        "    print(dataframe.head(head))\n",
        "    print(' MISSING VALUES '.center(70,'-'))\n",
        "    print(dataframe.isnull().sum())\n",
        "    print(' DUPLICATED VALUES '.center(70,'-'))\n",
        "    print(dataframe.duplicated().sum())\n",
        "\n",
        "check_df(df)"
      ],
      "metadata": {
        "id": "1KXnnXOuRWGJ",
        "colab": {
          "base_uri": "https://localhost:8080/"
        },
        "outputId": "68c5b928-fc9b-4b96-956f-cf004b279477"
      },
      "execution_count": null,
      "outputs": [
        {
          "output_type": "stream",
          "name": "stdout",
          "text": [
            "------------------------------- SHAPE --------------------------------\n",
            "Rows: 768\n",
            "Columns: 31\n",
            "------------------------------- TYPES --------------------------------\n",
            "Time      int64\n",
            "CTG     float64\n",
            "GAS     float64\n",
            "FPT     float64\n",
            "BVH     float64\n",
            "HPG     float64\n",
            "HDB     float64\n",
            "BID     float64\n",
            "NVL     float64\n",
            "PLX     float64\n",
            "VJC     float64\n",
            "VIC     float64\n",
            "PNJ     float64\n",
            "TPB     float64\n",
            "VHM     float64\n",
            "KDH     float64\n",
            "VRE     float64\n",
            "VCB     float64\n",
            "SSI     float64\n",
            "SBT     float64\n",
            "POW     float64\n",
            "REE     float64\n",
            "TCH     float64\n",
            "MWG     float64\n",
            "TCB     float64\n",
            "MBB     float64\n",
            "STB     float64\n",
            "MSN     float64\n",
            "PDR     float64\n",
            "VPB     float64\n",
            "VNM     float64\n",
            "dtype: object\n",
            "-------------------------------- HEAD --------------------------------\n",
            "       Time      CTG      GAS      FPT      BVH      HPG      HDB      BID  \\\n",
            "0  20180604  27.5559  81.8840  29.0245  91.0772  19.8304  31.8995  29.4947   \n",
            "1  20180605  27.9996  87.5618  29.3624  91.0772  19.4999  32.0479  29.3980   \n",
            "2  20180606  28.5419  91.2878  29.7924  91.2691  20.0948  32.0479  30.7518   \n",
            "3  20180607  27.9503  88.3602  29.3624  92.0369  20.4584  33.0864  30.1716   \n",
            "4  20180608  28.1475  86.4972  29.4545  92.0369  20.2600  32.1962  30.4617   \n",
            "\n",
            "       NVL      PLX  ...      REE      TCH      MWG      TCB      MBB    STB  \\\n",
            "0  37.9664  52.4584  ...  30.6753  24.8836  79.2838  34.1333  19.8741  12.55   \n",
            "1  37.9664  54.7973  ...  31.0373  24.5801  80.6658  32.0000  19.8741  12.90   \n",
            "2  38.0392  56.1338  ...  31.6255  23.9299  86.1939  30.6667  19.9393  13.30   \n",
            "3  39.7153  55.8832  ...  31.0373  23.9732  84.6664  32.8000  20.1678  13.00   \n",
            "4  39.3509  56.9692  ...  31.0373  23.9732  88.0123  35.0667  20.0699  12.90   \n",
            "\n",
            "       MSN      PDR      VPB       VNM  \n",
            "0  83.2016  16.0695  30.4042  108.1522  \n",
            "1  84.3874  16.0956  30.5277  110.3340  \n",
            "2  84.4862  16.9070  30.5586  109.0873  \n",
            "3  86.2648  16.8023  30.5895  110.5210  \n",
            "4  84.9802  16.6452  32.0109  110.3340  \n",
            "\n",
            "[5 rows x 31 columns]\n",
            "--------------------------- MISSING VALUES ---------------------------\n",
            "Time    0\n",
            "CTG     0\n",
            "GAS     0\n",
            "FPT     0\n",
            "BVH     0\n",
            "HPG     0\n",
            "HDB     0\n",
            "BID     0\n",
            "NVL     0\n",
            "PLX     0\n",
            "VJC     0\n",
            "VIC     0\n",
            "PNJ     0\n",
            "TPB     0\n",
            "VHM     0\n",
            "KDH     0\n",
            "VRE     0\n",
            "VCB     0\n",
            "SSI     0\n",
            "SBT     0\n",
            "POW     0\n",
            "REE     0\n",
            "TCH     0\n",
            "MWG     0\n",
            "TCB     0\n",
            "MBB     0\n",
            "STB     0\n",
            "MSN     0\n",
            "PDR     0\n",
            "VPB     0\n",
            "VNM     0\n",
            "dtype: int64\n",
            "------------------------- DUPLICATED VALUES --------------------------\n",
            "0\n"
          ]
        }
      ]
    },
    {
      "cell_type": "markdown",
      "source": [
        "Transform 'Time' values into proper datetime datatype"
      ],
      "metadata": {
        "id": "1AdNMIZgrfdz"
      }
    },
    {
      "cell_type": "code",
      "source": [
        "from datetime import datetime\n",
        "\n",
        "df['Time'] = df['Time'].astype(str)\n",
        "df['Time'] = df['Time'].apply(lambda x: datetime.strptime(x, '%Y%m%d'))\n",
        "print(df['Time'].head())"
      ],
      "metadata": {
        "id": "pwG-047XnTKZ",
        "colab": {
          "base_uri": "https://localhost:8080/"
        },
        "outputId": "4377ee5c-a666-417f-ab7d-c89a94c744fb"
      },
      "execution_count": null,
      "outputs": [
        {
          "output_type": "stream",
          "name": "stdout",
          "text": [
            "0   2018-06-04\n",
            "1   2018-06-05\n",
            "2   2018-06-06\n",
            "3   2018-06-07\n",
            "4   2018-06-08\n",
            "Name: Time, dtype: datetime64[ns]\n"
          ]
        }
      ]
    },
    {
      "cell_type": "markdown",
      "source": [
        "Split Stock values and Time"
      ],
      "metadata": {
        "id": "aR0P4PNFsj6s"
      }
    },
    {
      "cell_type": "code",
      "source": [
        "time = df['Time'] # Select time\n",
        "X = df.drop(columns=['Time']) # Select close prices\n",
        "print(X.shape, time.shape)"
      ],
      "metadata": {
        "id": "eeWeZ41fsRdv",
        "colab": {
          "base_uri": "https://localhost:8080/"
        },
        "outputId": "eb8da99f-e006-478f-fa47-60a674e63eaa"
      },
      "execution_count": null,
      "outputs": [
        {
          "output_type": "stream",
          "name": "stdout",
          "text": [
            "(768, 30) (768,)\n"
          ]
        }
      ]
    },
    {
      "cell_type": "markdown",
      "source": [
        "Normalization"
      ],
      "metadata": {
        "id": "HUZPkPOVsvBB"
      }
    },
    {
      "cell_type": "code",
      "source": [
        "X_std = (X - X.mean(axis = 0))/X.std(axis = 0, ddof = 1)"
      ],
      "metadata": {
        "id": "Hq9IFvNGe_R7"
      },
      "execution_count": null,
      "outputs": []
    },
    {
      "cell_type": "markdown",
      "source": [
        "The formula to calculate VN30-Index is:\n",
        "\n",
        "VN30-Index = CMV (Giá trị vốn hóa thị trường hiện tại) / BMV (Giá trị vốn hóa thị trường cơ sở) * 100\n",
        "\n",
        "With:\n",
        "\n",
        "CMV = Total of (Closing price * Volume) in a day => Here, I assumed CMV = Total of Closing price\n",
        "\n",
        "BMV = CMV of the first day\n"
      ],
      "metadata": {
        "id": "liklhrPeC1l0"
      }
    },
    {
      "cell_type": "code",
      "source": [
        "cmv = np.sum(X, axis=1) # Sum by rows\n",
        "bmv = np.full(cmv.shape, cmv[0]) # Create an array with the shape of cmv and the value of each element equals to the 1st cmv\n",
        "vn_index = cmv/bmv * 100\n",
        "vn_index.head()"
      ],
      "metadata": {
        "id": "niJ6oNsEb9VD",
        "colab": {
          "base_uri": "https://localhost:8080/"
        },
        "outputId": "4ee555dc-739b-41a2-9c75-098d4c0c39ec"
      },
      "execution_count": null,
      "outputs": [
        {
          "output_type": "execute_result",
          "data": {
            "text/plain": [
              "0    100.000000\n",
              "1    101.175157\n",
              "2    102.659944\n",
              "3    102.952721\n",
              "4    103.230955\n",
              "dtype: float64"
            ]
          },
          "metadata": {},
          "execution_count": 8
        }
      ]
    },
    {
      "cell_type": "markdown",
      "source": [
        "# PCA"
      ],
      "metadata": {
        "id": "0EKUCQUADHwp"
      }
    },
    {
      "cell_type": "code",
      "source": [
        "from sklearn.decomposition import PCA\n",
        "\n",
        "# Use PCA with 30 components first to observe how much info they preserve\n",
        "pca = PCA(random_state=0)\n",
        "pca.fit(X_std)\n",
        "eigenvals = pca.explained_variance_\n",
        "cumsum = np.cumsum(eigenvals)\n",
        "cumsum /= cumsum[-1]\n",
        "cumsum"
      ],
      "metadata": {
        "id": "hmCYOfnow39_",
        "colab": {
          "base_uri": "https://localhost:8080/"
        },
        "outputId": "10c3c87c-b1a2-4f71-c6b3-583bbf878834"
      },
      "execution_count": null,
      "outputs": [
        {
          "output_type": "execute_result",
          "data": {
            "text/plain": [
              "array([0.54632764, 0.75109487, 0.84509727, 0.88227815, 0.91257054,\n",
              "       0.93521349, 0.95019603, 0.96199184, 0.97133621, 0.97692666,\n",
              "       0.98034857, 0.98331635, 0.98589778, 0.98828068, 0.99032057,\n",
              "       0.992171  , 0.9934397 , 0.99461741, 0.99564737, 0.99657394,\n",
              "       0.99721091, 0.99775007, 0.99827998, 0.99871181, 0.99904501,\n",
              "       0.99931384, 0.99955663, 0.99972707, 0.99988357, 1.        ])"
            ]
          },
          "metadata": {},
          "execution_count": 16
        }
      ]
    },
    {
      "cell_type": "code",
      "source": [
        "# With the result above, using only 1 PCA component we can preserve about 54,63% of the total information\n",
        "X_pca = PCA(n_components=1, random_state=0).fit_transform(X_std.copy())"
      ],
      "metadata": {
        "id": "lSoPTofFzkG8"
      },
      "execution_count": null,
      "outputs": []
    },
    {
      "cell_type": "markdown",
      "source": [
        "# Plotting\n",
        "\n",
        "Since we're only using one component, which preserves approximately 54,63% of the data's information, my aim here is simply to visualize the dataset before and after PCA application and determine if it captures the underlying trend."
      ],
      "metadata": {
        "id": "kMYlOaqGJXH-"
      }
    },
    {
      "cell_type": "code",
      "source": [
        "import matplotlib.pyplot as plt\n",
        "\n",
        "fig, (ax1, ax2) = plt.subplots(2)\n",
        "fig.suptitle('VN30-Index presented by using one PCA component (Unscaled)')\n",
        "plt.xlabel('Time')\n",
        "ax1.plot(time, vn_index, label = 'VN30')\n",
        "ax1.legend()\n",
        "ax1.label_outer()\n",
        "ax2.plot(time, X_pca, label = 'VN30_PCA', color = 'orange')\n",
        "ax2.legend()\n",
        "plt.xticks(rotation=30)\n",
        "fig.tight_layout()\n",
        "plt.show()"
      ],
      "metadata": {
        "id": "oN9J0U_IizSW",
        "colab": {
          "base_uri": "https://localhost:8080/",
          "height": 492
        },
        "outputId": "a74894a9-d8f8-4f73-ba86-a55215fafe30"
      },
      "execution_count": null,
      "outputs": [
        {
          "output_type": "display_data",
          "data": {
            "text/plain": [
              "<Figure size 640x480 with 2 Axes>"
            ],
            "image/png": "[encoded data removed]"
          },
          "metadata": {}
        }
      ]
    },
    {
      "cell_type": "code",
      "source": [
        "fig, ax1 = plt.subplots()\n",
        "ax1.plot(time, vn_index, label='VN30')\n",
        "ax1.set_xlabel('Time')\n",
        "ax1.set_ylabel('Value')\n",
        "ax1.set_title('VN30-Index vs. VN30-Index presented by using one PCA component')\n",
        "ax1.legend()\n",
        "plt.xticks(rotation=30)\n",
        "ax2 = ax1.twinx()\n",
        "ax2.plot(time, X_pca, color='orange', label='VN30_PCA')\n",
        "ax2.set_ylabel('Principal Component 1')\n",
        "ax2.set_xlabel('Time')\n",
        "ax2.legend(loc='lower left')\n",
        "fig.tight_layout()\n",
        "plt.show()"
      ],
      "metadata": {
        "id": "FoJ6nxGbusex",
        "colab": {
          "base_uri": "https://localhost:8080/",
          "height": 487
        },
        "outputId": "1f86eeb6-1a27-471c-a313-828d7c5a1946"
      },
      "execution_count": null,
      "outputs": [
        {
          "output_type": "display_data",
          "data": {
            "text/plain": [
              "<Figure size 640x480 with 2 Axes>"
            ],
            "image/png": "[encoded data removed]"
          },
          "metadata": {}
        }
      ]
    }
  ]
}